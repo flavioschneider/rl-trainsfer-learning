{
 "cells": [
  {
   "cell_type": "code",
   "execution_count": 2,
   "metadata": {},
   "outputs": [
    {
     "name": "stderr",
     "output_type": "stream",
     "text": [
      "/home/ico/Desktop/RL/RLenv/lib/python3.7/site-packages/gym/logger.py:30: UserWarning: \u001b[33mWARN: Box bound precision lowered by casting to float32\u001b[0m\n",
      "  warnings.warn(colorize('%s: %s'%('WARN', msg % args), 'yellow'))\n"
     ]
    },
    {
     "name": "stdout",
     "output_type": "stream",
     "text": [
      "Algorithm: DDQN   Env: metaworld   state_dim: 6   action_dim: 625   Random Seed: 532   max_e_steps: 150\n",
      "\n",
      "\n",
      "loaded ./model/GOAL0_DDQN_metaworld_bs512_600000.pth\n",
      "loaded ./model/goal1/DDQN_metaworld_bs512gamma0.99nDec0.99995_450000.pth\n",
      "loaded ./model/goal2/DDQN_metaworld_bs512gamma0.99nDec0.99995_400000.pth\n"
     ]
    }
   ],
   "source": [
    "import time\n",
    "import numpy as np\n",
    "import torch\n",
    "import gym\n",
    "from DQN import DQN_Agent,ReplayBuffer,device\n",
    "from torch.utils.tensorboard import SummaryWriter\n",
    "import os, shutil\n",
    "from datetime import datetime\n",
    "import argparse\n",
    "from utils import evaluate_policy,str2bool\n",
    "import metaworld\n",
    "\n",
    "def action2box(action):\n",
    "    box = np.zeros(4)\n",
    "    # print(\"action2:\",action)\n",
    "    for i in range(4):\n",
    "        box[i] = (action % 5)/2 - 1\n",
    "        action = action // 5\n",
    "    # print(\"2box:\",box)\n",
    "    return box\n",
    "\n",
    "\n",
    "def box2action(box):\n",
    "    # print(\"box2:\",box)\n",
    "    a = 0\n",
    "    for i in range(4):\n",
    "        a += (round(box[i])+1)*2 * (5**i)\n",
    "    # print(\"2action:\",a)\n",
    "    # print(\"origbox:\",box,\"a2b:\",action2box(a))\n",
    "    return a\n",
    "\n",
    "\n",
    "def load_ddqn():\n",
    "    state_dim = 6\n",
    "    action_dim = 625\n",
    "    max_e_steps = 150\n",
    "    \n",
    "    algo_name = 'DDQN'\n",
    "\n",
    "    seed = 532\n",
    "    torch.manual_seed(seed)\n",
    "    np.random.seed(seed)\n",
    "\n",
    "    print('Algorithm:',algo_name,'  Env:','metaworld','  state_dim:',state_dim,'  action_dim:',action_dim,'  Random Seed:',seed, '  max_e_steps:',max_e_steps)\n",
    "    print('\\n')\n",
    "\n",
    "    kwargs = {\n",
    "        \"state_dim\": state_dim,\n",
    "        \"action_dim\": action_dim,\n",
    "        \"gamma\": 0.99,\n",
    "        \"hid_shape\": (200, 200),\n",
    "        \"double_dqn\": True,\n",
    "        \"env_with_dw\": False,\n",
    "    }\n",
    "    if not os.path.exists('model'): os.mkdir('model')\n",
    "    DDQN_goal1 = DQN_Agent(**kwargs)\n",
    "    DDQN_goal2 = DQN_Agent(**kwargs)\n",
    "    DDQN_goal3 = DQN_Agent(**kwargs)\n",
    "    DDQN_goal1.load('GOAL0_DDQN_metaworld_bs512_600000.pth')\n",
    "    DDQN_goal2.load('goal1/DDQN_metaworld_bs512gamma0.99nDec0.99995_450000.pth')\n",
    "    DDQN_goal3.load('goal2/DDQN_metaworld_bs512gamma0.99nDec0.99995_400000.pth')\n",
    "    return DDQN_goal1, DDQN_goal2, DDQN_goal3\n",
    "\n",
    "\n",
    "DDQN_goal1, DDQN_goal2, DDQN_goal3 = load_ddqn()\n",
    "\n"
   ]
  },
  {
   "cell_type": "code",
   "execution_count": 5,
   "metadata": {
    "id": "_oskxrZFaGMU"
   },
   "outputs": [],
   "source": [
    "import numpy as np\n",
    "\n",
    "idx = 0\n",
    "idx = 1000000\n",
    "\n",
    "def idx2state(idx, minS=np.array([-1,-1,-1,-1,-1,-1]), maxS=np.array([1,1,1,1,1,1]), steps=10):\n",
    "  state = np.zeros(6)\n",
    "  step_sizes = (maxS - minS)/(steps-1)\n",
    "  #print(step_sizes)\n",
    "\n",
    "  for i in range(6):\n",
    "    state[i] = (idx % steps)*step_sizes[i] + minS[i]\n",
    "    idx = idx // steps\n",
    "\n",
    "  return state"
   ]
  },
  {
   "cell_type": "code",
   "execution_count": 6,
   "metadata": {
    "id": "vngMCGMqcRlP"
   },
   "outputs": [
    {
     "name": "stderr",
     "output_type": "stream",
     "text": [
      " 35%|██████████████████████████████████████████████████████████████                                                                                                                 | 354929/1000000 [01:42<03:07, 3447.42it/s]\n"
     ]
    },
    {
     "ename": "KeyboardInterrupt",
     "evalue": "",
     "output_type": "error",
     "traceback": [
      "\u001b[0;31m---------------------------------------------------------------------------\u001b[0m",
      "\u001b[0;31mKeyboardInterrupt\u001b[0m                         Traceback (most recent call last)",
      "\u001b[0;32m/tmp/ipykernel_60571/3768121514.py\u001b[0m in \u001b[0;36m<module>\u001b[0;34m\u001b[0m\n\u001b[1;32m      9\u001b[0m \u001b[0;31m#     print(idx2state(i))\u001b[0m\u001b[0;34m\u001b[0m\u001b[0;34m\u001b[0m\u001b[0;34m\u001b[0m\u001b[0m\n\u001b[1;32m     10\u001b[0m     \u001b[0mstate_vec\u001b[0m \u001b[0;34m=\u001b[0m \u001b[0midx2state\u001b[0m\u001b[0;34m(\u001b[0m\u001b[0mi\u001b[0m\u001b[0;34m)\u001b[0m\u001b[0;34m\u001b[0m\u001b[0;34m\u001b[0m\u001b[0m\n\u001b[0;32m---> 11\u001b[0;31m     \u001b[0mQ_s\u001b[0m \u001b[0;34m=\u001b[0m \u001b[0mDDQN\u001b[0m\u001b[0;34m[\u001b[0m\u001b[0mgoal\u001b[0m\u001b[0;34m]\u001b[0m\u001b[0;34m.\u001b[0m\u001b[0mselect_action\u001b[0m\u001b[0;34m(\u001b[0m\u001b[0mstate_vec\u001b[0m\u001b[0;34m,\u001b[0m \u001b[0mdeterministic\u001b[0m\u001b[0;34m=\u001b[0m\u001b[0;32mTrue\u001b[0m\u001b[0;34m)\u001b[0m\u001b[0;34m\u001b[0m\u001b[0;34m\u001b[0m\u001b[0m\n\u001b[0m\u001b[1;32m     12\u001b[0m     \u001b[0mQ\u001b[0m\u001b[0;34m[\u001b[0m\u001b[0mi\u001b[0m\u001b[0;34m:\u001b[0m\u001b[0mi\u001b[0m\u001b[0;34m+\u001b[0m\u001b[0;36m625\u001b[0m\u001b[0;34m,\u001b[0m \u001b[0mgoal\u001b[0m\u001b[0;34m]\u001b[0m \u001b[0;34m=\u001b[0m \u001b[0mQ_s\u001b[0m\u001b[0;34m\u001b[0m\u001b[0;34m\u001b[0m\u001b[0m\n\u001b[1;32m     13\u001b[0m \u001b[0;34m\u001b[0m\u001b[0m\n",
      "\u001b[0;32m~/Desktop/RL/rl-transfer-learning/DQN-DDQN-Pytorch/DQN.py\u001b[0m in \u001b[0;36mselect_action\u001b[0;34m(self, state, deterministic)\u001b[0m\n\u001b[1;32m     63\u001b[0m                         \u001b[0mstate\u001b[0m \u001b[0;34m=\u001b[0m \u001b[0mtorch\u001b[0m\u001b[0;34m.\u001b[0m\u001b[0mFloatTensor\u001b[0m\u001b[0;34m(\u001b[0m\u001b[0mstate\u001b[0m\u001b[0;34m.\u001b[0m\u001b[0mreshape\u001b[0m\u001b[0;34m(\u001b[0m\u001b[0;36m1\u001b[0m\u001b[0;34m,\u001b[0m \u001b[0;34m-\u001b[0m\u001b[0;36m1\u001b[0m\u001b[0;34m)\u001b[0m\u001b[0;34m)\u001b[0m\u001b[0;34m.\u001b[0m\u001b[0mto\u001b[0m\u001b[0;34m(\u001b[0m\u001b[0mdevice\u001b[0m\u001b[0;34m)\u001b[0m\u001b[0;34m\u001b[0m\u001b[0;34m\u001b[0m\u001b[0m\n\u001b[1;32m     64\u001b[0m                         \u001b[0;32mif\u001b[0m \u001b[0mdeterministic\u001b[0m\u001b[0;34m:\u001b[0m\u001b[0;34m\u001b[0m\u001b[0;34m\u001b[0m\u001b[0m\n\u001b[0;32m---> 65\u001b[0;31m                                 \u001b[0ma\u001b[0m \u001b[0;34m=\u001b[0m \u001b[0mself\u001b[0m\u001b[0;34m.\u001b[0m\u001b[0mq_net\u001b[0m\u001b[0;34m(\u001b[0m\u001b[0mstate\u001b[0m\u001b[0;34m)\u001b[0m\u001b[0;34m.\u001b[0m\u001b[0margmax\u001b[0m\u001b[0;34m(\u001b[0m\u001b[0;34m)\u001b[0m\u001b[0;34m.\u001b[0m\u001b[0mitem\u001b[0m\u001b[0;34m(\u001b[0m\u001b[0;34m)\u001b[0m\u001b[0;34m\u001b[0m\u001b[0;34m\u001b[0m\u001b[0m\n\u001b[0m\u001b[1;32m     66\u001b[0m                         \u001b[0;32melse\u001b[0m\u001b[0;34m:\u001b[0m\u001b[0;34m\u001b[0m\u001b[0;34m\u001b[0m\u001b[0m\n\u001b[1;32m     67\u001b[0m                                 \u001b[0;31m# if np.random.rand() < self.exp_noise + 0.05:\u001b[0m\u001b[0;34m\u001b[0m\u001b[0;34m\u001b[0m\u001b[0;34m\u001b[0m\u001b[0m\n",
      "\u001b[0;32m~/Desktop/RL/RLenv/lib/python3.7/site-packages/torch/nn/modules/module.py\u001b[0m in \u001b[0;36m_call_impl\u001b[0;34m(self, *input, **kwargs)\u001b[0m\n\u001b[1;32m    725\u001b[0m             \u001b[0mresult\u001b[0m \u001b[0;34m=\u001b[0m \u001b[0mself\u001b[0m\u001b[0;34m.\u001b[0m\u001b[0m_slow_forward\u001b[0m\u001b[0;34m(\u001b[0m\u001b[0;34m*\u001b[0m\u001b[0minput\u001b[0m\u001b[0;34m,\u001b[0m \u001b[0;34m**\u001b[0m\u001b[0mkwargs\u001b[0m\u001b[0;34m)\u001b[0m\u001b[0;34m\u001b[0m\u001b[0;34m\u001b[0m\u001b[0m\n\u001b[1;32m    726\u001b[0m         \u001b[0;32melse\u001b[0m\u001b[0;34m:\u001b[0m\u001b[0;34m\u001b[0m\u001b[0;34m\u001b[0m\u001b[0m\n\u001b[0;32m--> 727\u001b[0;31m             \u001b[0mresult\u001b[0m \u001b[0;34m=\u001b[0m \u001b[0mself\u001b[0m\u001b[0;34m.\u001b[0m\u001b[0mforward\u001b[0m\u001b[0;34m(\u001b[0m\u001b[0;34m*\u001b[0m\u001b[0minput\u001b[0m\u001b[0;34m,\u001b[0m \u001b[0;34m**\u001b[0m\u001b[0mkwargs\u001b[0m\u001b[0;34m)\u001b[0m\u001b[0;34m\u001b[0m\u001b[0;34m\u001b[0m\u001b[0m\n\u001b[0m\u001b[1;32m    728\u001b[0m         for hook in itertools.chain(\n\u001b[1;32m    729\u001b[0m                 \u001b[0m_global_forward_hooks\u001b[0m\u001b[0;34m.\u001b[0m\u001b[0mvalues\u001b[0m\u001b[0;34m(\u001b[0m\u001b[0;34m)\u001b[0m\u001b[0;34m,\u001b[0m\u001b[0;34m\u001b[0m\u001b[0;34m\u001b[0m\u001b[0m\n",
      "\u001b[0;32m~/Desktop/RL/rl-transfer-learning/DQN-DDQN-Pytorch/DQN.py\u001b[0m in \u001b[0;36mforward\u001b[0;34m(self, s)\u001b[0m\n\u001b[1;32m     25\u001b[0m \u001b[0;34m\u001b[0m\u001b[0m\n\u001b[1;32m     26\u001b[0m         \u001b[0;32mdef\u001b[0m \u001b[0mforward\u001b[0m\u001b[0;34m(\u001b[0m\u001b[0mself\u001b[0m\u001b[0;34m,\u001b[0m \u001b[0ms\u001b[0m\u001b[0;34m)\u001b[0m\u001b[0;34m:\u001b[0m\u001b[0;34m\u001b[0m\u001b[0;34m\u001b[0m\u001b[0m\n\u001b[0;32m---> 27\u001b[0;31m                 \u001b[0mq\u001b[0m \u001b[0;34m=\u001b[0m \u001b[0mself\u001b[0m\u001b[0;34m.\u001b[0m\u001b[0mQ\u001b[0m\u001b[0;34m(\u001b[0m\u001b[0ms\u001b[0m\u001b[0;34m)\u001b[0m\u001b[0;34m\u001b[0m\u001b[0;34m\u001b[0m\u001b[0m\n\u001b[0m\u001b[1;32m     28\u001b[0m                 \u001b[0;32mreturn\u001b[0m \u001b[0mq\u001b[0m\u001b[0;34m\u001b[0m\u001b[0;34m\u001b[0m\u001b[0m\n\u001b[1;32m     29\u001b[0m \u001b[0;34m\u001b[0m\u001b[0m\n",
      "\u001b[0;32m~/Desktop/RL/RLenv/lib/python3.7/site-packages/torch/nn/modules/module.py\u001b[0m in \u001b[0;36m_call_impl\u001b[0;34m(self, *input, **kwargs)\u001b[0m\n\u001b[1;32m    725\u001b[0m             \u001b[0mresult\u001b[0m \u001b[0;34m=\u001b[0m \u001b[0mself\u001b[0m\u001b[0;34m.\u001b[0m\u001b[0m_slow_forward\u001b[0m\u001b[0;34m(\u001b[0m\u001b[0;34m*\u001b[0m\u001b[0minput\u001b[0m\u001b[0;34m,\u001b[0m \u001b[0;34m**\u001b[0m\u001b[0mkwargs\u001b[0m\u001b[0;34m)\u001b[0m\u001b[0;34m\u001b[0m\u001b[0;34m\u001b[0m\u001b[0m\n\u001b[1;32m    726\u001b[0m         \u001b[0;32melse\u001b[0m\u001b[0;34m:\u001b[0m\u001b[0;34m\u001b[0m\u001b[0;34m\u001b[0m\u001b[0m\n\u001b[0;32m--> 727\u001b[0;31m             \u001b[0mresult\u001b[0m \u001b[0;34m=\u001b[0m \u001b[0mself\u001b[0m\u001b[0;34m.\u001b[0m\u001b[0mforward\u001b[0m\u001b[0;34m(\u001b[0m\u001b[0;34m*\u001b[0m\u001b[0minput\u001b[0m\u001b[0;34m,\u001b[0m \u001b[0;34m**\u001b[0m\u001b[0mkwargs\u001b[0m\u001b[0;34m)\u001b[0m\u001b[0;34m\u001b[0m\u001b[0;34m\u001b[0m\u001b[0m\n\u001b[0m\u001b[1;32m    728\u001b[0m         for hook in itertools.chain(\n\u001b[1;32m    729\u001b[0m                 \u001b[0m_global_forward_hooks\u001b[0m\u001b[0;34m.\u001b[0m\u001b[0mvalues\u001b[0m\u001b[0;34m(\u001b[0m\u001b[0;34m)\u001b[0m\u001b[0;34m,\u001b[0m\u001b[0;34m\u001b[0m\u001b[0;34m\u001b[0m\u001b[0m\n",
      "\u001b[0;32m~/Desktop/RL/RLenv/lib/python3.7/site-packages/torch/nn/modules/container.py\u001b[0m in \u001b[0;36mforward\u001b[0;34m(self, input)\u001b[0m\n\u001b[1;32m    115\u001b[0m     \u001b[0;32mdef\u001b[0m \u001b[0mforward\u001b[0m\u001b[0;34m(\u001b[0m\u001b[0mself\u001b[0m\u001b[0;34m,\u001b[0m \u001b[0minput\u001b[0m\u001b[0;34m)\u001b[0m\u001b[0;34m:\u001b[0m\u001b[0;34m\u001b[0m\u001b[0;34m\u001b[0m\u001b[0m\n\u001b[1;32m    116\u001b[0m         \u001b[0;32mfor\u001b[0m \u001b[0mmodule\u001b[0m \u001b[0;32min\u001b[0m \u001b[0mself\u001b[0m\u001b[0;34m:\u001b[0m\u001b[0;34m\u001b[0m\u001b[0;34m\u001b[0m\u001b[0m\n\u001b[0;32m--> 117\u001b[0;31m             \u001b[0minput\u001b[0m \u001b[0;34m=\u001b[0m \u001b[0mmodule\u001b[0m\u001b[0;34m(\u001b[0m\u001b[0minput\u001b[0m\u001b[0;34m)\u001b[0m\u001b[0;34m\u001b[0m\u001b[0;34m\u001b[0m\u001b[0m\n\u001b[0m\u001b[1;32m    118\u001b[0m         \u001b[0;32mreturn\u001b[0m \u001b[0minput\u001b[0m\u001b[0;34m\u001b[0m\u001b[0;34m\u001b[0m\u001b[0m\n\u001b[1;32m    119\u001b[0m \u001b[0;34m\u001b[0m\u001b[0m\n",
      "\u001b[0;32m~/Desktop/RL/RLenv/lib/python3.7/site-packages/torch/nn/modules/module.py\u001b[0m in \u001b[0;36m_call_impl\u001b[0;34m(self, *input, **kwargs)\u001b[0m\n\u001b[1;32m    725\u001b[0m             \u001b[0mresult\u001b[0m \u001b[0;34m=\u001b[0m \u001b[0mself\u001b[0m\u001b[0;34m.\u001b[0m\u001b[0m_slow_forward\u001b[0m\u001b[0;34m(\u001b[0m\u001b[0;34m*\u001b[0m\u001b[0minput\u001b[0m\u001b[0;34m,\u001b[0m \u001b[0;34m**\u001b[0m\u001b[0mkwargs\u001b[0m\u001b[0;34m)\u001b[0m\u001b[0;34m\u001b[0m\u001b[0;34m\u001b[0m\u001b[0m\n\u001b[1;32m    726\u001b[0m         \u001b[0;32melse\u001b[0m\u001b[0;34m:\u001b[0m\u001b[0;34m\u001b[0m\u001b[0;34m\u001b[0m\u001b[0m\n\u001b[0;32m--> 727\u001b[0;31m             \u001b[0mresult\u001b[0m \u001b[0;34m=\u001b[0m \u001b[0mself\u001b[0m\u001b[0;34m.\u001b[0m\u001b[0mforward\u001b[0m\u001b[0;34m(\u001b[0m\u001b[0;34m*\u001b[0m\u001b[0minput\u001b[0m\u001b[0;34m,\u001b[0m \u001b[0;34m**\u001b[0m\u001b[0mkwargs\u001b[0m\u001b[0;34m)\u001b[0m\u001b[0;34m\u001b[0m\u001b[0;34m\u001b[0m\u001b[0m\n\u001b[0m\u001b[1;32m    728\u001b[0m         for hook in itertools.chain(\n\u001b[1;32m    729\u001b[0m                 \u001b[0m_global_forward_hooks\u001b[0m\u001b[0;34m.\u001b[0m\u001b[0mvalues\u001b[0m\u001b[0;34m(\u001b[0m\u001b[0;34m)\u001b[0m\u001b[0;34m,\u001b[0m\u001b[0;34m\u001b[0m\u001b[0;34m\u001b[0m\u001b[0m\n",
      "\u001b[0;32m~/Desktop/RL/RLenv/lib/python3.7/site-packages/torch/nn/modules/linear.py\u001b[0m in \u001b[0;36mforward\u001b[0;34m(self, input)\u001b[0m\n\u001b[1;32m     91\u001b[0m \u001b[0;34m\u001b[0m\u001b[0m\n\u001b[1;32m     92\u001b[0m     \u001b[0;32mdef\u001b[0m \u001b[0mforward\u001b[0m\u001b[0;34m(\u001b[0m\u001b[0mself\u001b[0m\u001b[0;34m,\u001b[0m \u001b[0minput\u001b[0m\u001b[0;34m:\u001b[0m \u001b[0mTensor\u001b[0m\u001b[0;34m)\u001b[0m \u001b[0;34m->\u001b[0m \u001b[0mTensor\u001b[0m\u001b[0;34m:\u001b[0m\u001b[0;34m\u001b[0m\u001b[0;34m\u001b[0m\u001b[0m\n\u001b[0;32m---> 93\u001b[0;31m         \u001b[0;32mreturn\u001b[0m \u001b[0mF\u001b[0m\u001b[0;34m.\u001b[0m\u001b[0mlinear\u001b[0m\u001b[0;34m(\u001b[0m\u001b[0minput\u001b[0m\u001b[0;34m,\u001b[0m \u001b[0mself\u001b[0m\u001b[0;34m.\u001b[0m\u001b[0mweight\u001b[0m\u001b[0;34m,\u001b[0m \u001b[0mself\u001b[0m\u001b[0;34m.\u001b[0m\u001b[0mbias\u001b[0m\u001b[0;34m)\u001b[0m\u001b[0;34m\u001b[0m\u001b[0;34m\u001b[0m\u001b[0m\n\u001b[0m\u001b[1;32m     94\u001b[0m \u001b[0;34m\u001b[0m\u001b[0m\n\u001b[1;32m     95\u001b[0m     \u001b[0;32mdef\u001b[0m \u001b[0mextra_repr\u001b[0m\u001b[0;34m(\u001b[0m\u001b[0mself\u001b[0m\u001b[0;34m)\u001b[0m \u001b[0;34m->\u001b[0m \u001b[0mstr\u001b[0m\u001b[0;34m:\u001b[0m\u001b[0;34m\u001b[0m\u001b[0;34m\u001b[0m\u001b[0m\n",
      "\u001b[0;32m~/Desktop/RL/RLenv/lib/python3.7/site-packages/torch/nn/modules/module.py\u001b[0m in \u001b[0;36m__getattr__\u001b[0;34m(self, name)\u001b[0m\n\u001b[1;32m    763\u001b[0m             \u001b[0mself\u001b[0m\u001b[0;34m.\u001b[0m\u001b[0m_non_persistent_buffers_set\u001b[0m \u001b[0;34m=\u001b[0m \u001b[0mset\u001b[0m\u001b[0;34m(\u001b[0m\u001b[0;34m)\u001b[0m\u001b[0;34m\u001b[0m\u001b[0;34m\u001b[0m\u001b[0m\n\u001b[1;32m    764\u001b[0m \u001b[0;34m\u001b[0m\u001b[0m\n\u001b[0;32m--> 765\u001b[0;31m     \u001b[0;32mdef\u001b[0m \u001b[0m__getattr__\u001b[0m\u001b[0;34m(\u001b[0m\u001b[0mself\u001b[0m\u001b[0;34m,\u001b[0m \u001b[0mname\u001b[0m\u001b[0;34m:\u001b[0m \u001b[0mstr\u001b[0m\u001b[0;34m)\u001b[0m \u001b[0;34m->\u001b[0m \u001b[0mUnion\u001b[0m\u001b[0;34m[\u001b[0m\u001b[0mTensor\u001b[0m\u001b[0;34m,\u001b[0m \u001b[0;34m'Module'\u001b[0m\u001b[0;34m]\u001b[0m\u001b[0;34m:\u001b[0m\u001b[0;34m\u001b[0m\u001b[0;34m\u001b[0m\u001b[0m\n\u001b[0m\u001b[1;32m    766\u001b[0m         \u001b[0;32mif\u001b[0m \u001b[0;34m'_parameters'\u001b[0m \u001b[0;32min\u001b[0m \u001b[0mself\u001b[0m\u001b[0;34m.\u001b[0m\u001b[0m__dict__\u001b[0m\u001b[0;34m:\u001b[0m\u001b[0;34m\u001b[0m\u001b[0;34m\u001b[0m\u001b[0m\n\u001b[1;32m    767\u001b[0m             \u001b[0m_parameters\u001b[0m \u001b[0;34m=\u001b[0m \u001b[0mself\u001b[0m\u001b[0;34m.\u001b[0m\u001b[0m__dict__\u001b[0m\u001b[0;34m[\u001b[0m\u001b[0;34m'_parameters'\u001b[0m\u001b[0;34m]\u001b[0m\u001b[0;34m\u001b[0m\u001b[0;34m\u001b[0m\u001b[0m\n",
      "\u001b[0;31mKeyboardInterrupt\u001b[0m: "
     ]
    }
   ],
   "source": [
    "from tqdm import tqdm\n",
    "\n",
    "Q = np.ndarray((1000000*625,4))\n",
    "\n",
    "DDQN = [DDQN_goal1, DDQN_goal2, DDQN_goal3]\n",
    "\n",
    "for goal in range(3):\n",
    "  for i in tqdm(range(1000000)):\n",
    "#     print(idx2state(i))\n",
    "    state_vec = idx2state(i)\n",
    "    Q_s = DDQN[goal].select_action(state_vec, deterministic=True)\n",
    "    Q[i:i+625, goal] = Q_s\n",
    "\n"
   ]
  },
  {
   "cell_type": "code",
   "execution_count": 23,
   "metadata": {},
   "outputs": [],
   "source": [
    "\n",
    "Q32 = Q.astype(np.float32)\n"
   ]
  },
  {
   "cell_type": "code",
   "execution_count": 27,
   "metadata": {
    "id": "E4EcVyQDgRrO",
    "scrolled": false
   },
   "outputs": [],
   "source": [
    "with open('Q32_metaworld.npy', 'wb') as f:\n",
    "    np.save(f, Q32)"
   ]
  },
  {
   "cell_type": "code",
   "execution_count": 10,
   "metadata": {},
   "outputs": [],
   "source": [
    "def goal2box(idx):\n",
    "    x = idx//2\n",
    "    y = idx%2\n",
    "    return np.asarray([x,y])"
   ]
  },
  {
   "cell_type": "code",
   "execution_count": 8,
   "metadata": {},
   "outputs": [],
   "source": [
    "with open('Q32_metaworld.npy', 'rb') as f:\n",
    "    Q32 = np.load(f)"
   ]
  },
  {
   "cell_type": "code",
   "execution_count": 11,
   "metadata": {},
   "outputs": [],
   "source": [
    "action2boxarr = np.zeros((625,4))\n",
    "for a in range(625):\n",
    "    action2boxarr[a] = action2box(a)\n",
    "    \n",
    "goal2boxarr = np.zeros((4,2))\n",
    "for g in range(4):\n",
    "    goal2boxarr[g] = goal2box(g)"
   ]
  },
  {
   "cell_type": "code",
   "execution_count": 12,
   "metadata": {
    "scrolled": true
   },
   "outputs": [
    {
     "data": {
      "text/plain": [
       "array([124., 124., 124., 124., 124., 124., 124., 124., 124., 124., 124.,\n",
       "       124., 124., 124., 124., 124., 124., 124., 124., 124., 124., 124.,\n",
       "       124., 124., 124., 124., 124., 124., 124., 124., 124., 124., 124.,\n",
       "       124., 124., 124., 124., 124., 124., 124., 124., 124., 124., 124.,\n",
       "       124., 124., 124., 124., 124., 124., 124., 124., 124., 124., 124.,\n",
       "       124., 124., 124., 124., 124., 124., 124., 124., 124., 124., 124.,\n",
       "       124., 124., 124., 124., 124., 124., 124., 124., 124., 124., 124.,\n",
       "       124., 124., 124., 124., 124., 124., 124., 124., 124., 124., 124.,\n",
       "       124., 124., 124., 124., 124., 124., 124., 124., 124., 124., 124.,\n",
       "       124., 124., 124., 124., 124., 124., 124., 124., 124., 124., 124.,\n",
       "       124., 124., 124., 124., 124., 124., 124., 124., 124., 124., 124.,\n",
       "       124., 124., 124., 124., 124., 124., 124., 124., 124., 124., 124.,\n",
       "       124., 124., 124., 124., 124., 124., 124., 124., 124., 124., 124.,\n",
       "       124., 124., 124., 124., 124., 124., 124., 124., 124., 124., 124.,\n",
       "       124., 124., 124., 124., 124., 124., 124., 124., 124., 124., 124.,\n",
       "       124., 124., 124., 124., 124., 124., 124., 124., 124., 124., 124.,\n",
       "       124., 124., 124., 124., 124., 124., 124., 124., 124., 124., 124.,\n",
       "       124., 124., 124., 124., 124., 124., 124., 124., 124., 124., 124.,\n",
       "       124., 124., 124., 124., 124., 124., 124., 124., 124., 124., 124.,\n",
       "       124., 124., 124., 124., 124., 124., 124., 124., 124., 124., 124.,\n",
       "       124., 124., 124., 124., 124., 124., 124., 124., 124., 124., 124.,\n",
       "       124., 124., 124., 124., 124., 124., 124., 124., 124., 124., 124.,\n",
       "       124., 124., 124., 124., 124., 124., 124., 124., 124., 124., 124.,\n",
       "       124., 124., 124., 124., 124., 124., 124., 124., 124., 124., 124.,\n",
       "       124., 124., 124., 124., 124., 124., 124., 124., 124., 124., 124.,\n",
       "       124., 124., 124., 124., 124., 124., 124., 124., 124., 124., 124.,\n",
       "       124., 124., 124., 124., 124., 124., 124., 124., 124., 124., 124.,\n",
       "       124., 124., 124., 124., 124., 124., 124., 124., 124., 124., 124.,\n",
       "       124., 124., 124., 124., 124., 124., 124., 124., 124., 124., 124.,\n",
       "       124., 124., 124., 124., 124., 124., 124., 124., 124., 124., 124.,\n",
       "       124., 124., 124., 124., 124., 124., 124., 124., 124., 124., 124.,\n",
       "       124., 124., 124., 124., 124., 124., 124., 124., 124., 124., 124.,\n",
       "       124., 124., 124., 124., 124., 124., 124., 124., 124., 124., 124.,\n",
       "       124., 124., 124., 124., 124., 124., 124., 124., 124., 124., 124.,\n",
       "       124., 124., 124., 124., 124., 124., 124., 124., 124., 124., 124.,\n",
       "       124., 124., 124., 124., 124., 124., 124., 124., 124., 124., 124.,\n",
       "       124., 124., 124., 124., 124., 124., 124., 124., 124., 124., 124.,\n",
       "       124., 124., 124., 124., 124., 124., 124., 124., 124., 124., 124.,\n",
       "       124., 124., 124., 124., 124., 124., 124., 124., 124., 124., 124.,\n",
       "       124., 124., 124., 124., 124., 124., 124., 124., 124., 124., 124.,\n",
       "       124., 124., 124., 124., 124., 124., 124., 124., 124., 124., 124.,\n",
       "       124., 124., 124., 124., 124., 124., 124., 124., 124., 124., 124.,\n",
       "       124., 124., 124., 124., 124., 124., 124., 124., 124., 124., 124.,\n",
       "       124., 124., 124., 124., 124., 124., 124., 124., 124., 124., 124.,\n",
       "       124., 124., 124., 124., 124., 124., 124., 124., 124., 124., 124.,\n",
       "       124., 124., 124., 124., 124., 124., 124., 124., 124., 124., 124.,\n",
       "       124., 124., 124., 124., 124., 124., 124., 124., 124., 124., 124.,\n",
       "       124., 124., 124., 124., 124., 124., 124., 124., 124., 124., 124.,\n",
       "       124., 124., 124., 124., 124., 124., 124., 124., 124., 124., 124.,\n",
       "       124., 124., 124., 124., 124., 124., 124., 124., 124., 124., 124.,\n",
       "       124., 124., 124., 124., 124., 124., 124., 124., 124., 124., 124.,\n",
       "       124., 124., 124., 124., 124., 124., 124., 124., 124., 124., 124.,\n",
       "       124., 124., 124., 124., 124., 124., 124., 124., 124., 124., 124.,\n",
       "       124., 124., 124., 124., 124., 124., 124., 124., 124., 124., 124.,\n",
       "       124., 124., 124., 124., 124., 124., 124., 124., 124., 124., 124.,\n",
       "       124., 124., 124., 124., 124., 124., 124., 124., 124., 124., 124.,\n",
       "       124., 124., 124., 124., 124., 124., 124., 124.], dtype=float32)"
      ]
     },
     "execution_count": 12,
     "metadata": {},
     "output_type": "execute_result"
    }
   ],
   "source": [
    "Q32[2*625:2*625+624,1]"
   ]
  },
  {
   "cell_type": "code",
   "execution_count": 13,
   "metadata": {},
   "outputs": [
    {
     "name": "stderr",
     "output_type": "stream",
     "text": [
      "100%|██████████████████████████████████████████████████████████████████████████████████████████████████████████████████████████████████████████████████████████████████████████████| 1000000/1000000 [02:46<00:00, 5988.84it/s]\n"
     ]
    }
   ],
   "source": [
    "# import myfm\n",
    "\n",
    "bestactionset = set()\n",
    "\n",
    "X = np.zeros((1000000*2*3, 6+4+2)) # 6: state dim, 4: action dim, 2: goal dim\n",
    "y = np.zeros(1000000*2*3)\n",
    "\n",
    "for stateidx in tqdm(range(1000000)):\n",
    "    state = idx2state(stateidx)\n",
    "    bestQ = np.asarray([Q32[stateidx*625:stateidx*625+624,i].max() for i in range(3)])\n",
    "    worstQ = np.asarray([Q32[stateidx*625:stateidx*625+624,i].min() for i in range(3)])\n",
    "#     print(bestQ, worstQ)\n",
    "    bestOk = [False, False, False]\n",
    "    worstOk = [False, False, False]\n",
    "    for actionidx in range(625):\n",
    "        if (False in bestOk) or (False in worstOk):\n",
    "            action = action2boxarr[actionidx]\n",
    "            stateactionidx = stateidx*625 + actionidx\n",
    "            for goalidx in range(3):\n",
    "#                 if goalidx==1:\n",
    "#                     print(stateactionidx, goalidx)\n",
    "#                     print(Q32[stateactionidx,goalidx],bestQ[goalidx])\n",
    "#                     print(bestOk[goalidx])\n",
    "                if bestOk[goalidx]==False and Q32[stateactionidx,goalidx] >= bestQ[goalidx]:\n",
    "#                     print(Q32[stateactionidx,goalidx], bestQ[goalidx])\n",
    "#                     print(bestOk)\n",
    "                    goal = goal2boxarr[goalidx]\n",
    "                    X[stateidx*2*3 + 0*3 + goalidx] = np.concatenate((state, action, goal))\n",
    "#                     print(X[stateidx*2*3 + 0*3 + goalidx])\n",
    "                    y[stateidx*2*3 + 0*3 + goalidx] = Q32[stateactionidx,goalidx]\n",
    "                    bestOk[goalidx] = True\n",
    "#                     bestactionset.add(actionidx)\n",
    "                    \n",
    "#                     print(bestOk, goalidx)\n",
    "                if worstOk[goalidx]==False and Q32[stateactionidx,goalidx] <= worstQ[goalidx]:\n",
    "                    goal = goal2boxarr[goalidx]\n",
    "                    X[stateidx*2*3 + 1*3 + goalidx] = np.concatenate((state, action, goal))\n",
    "                    y[stateidx*2*3 + 1*3 + goalidx] = Q32[stateactionidx,goalidx]\n",
    "                    worstOk[goalidx] = True\n",
    "            \n",
    "            "
   ]
  },
  {
   "cell_type": "code",
   "execution_count": 140,
   "metadata": {},
   "outputs": [
    {
     "data": {
      "text/plain": [
       "532"
      ]
     },
     "execution_count": 140,
     "metadata": {},
     "output_type": "execute_result"
    }
   ],
   "source": [
    "len(bestactionset)"
   ]
  },
  {
   "cell_type": "code",
   "execution_count": 82,
   "metadata": {},
   "outputs": [
    {
     "name": "stderr",
     "output_type": "stream",
     "text": [
      "alpha = 0.01 w0 = 22.44 : 100%|██████████████████████████████████████████████████████████████████████████████████████████████████████████████████████████████████████████████████████████████| 100/100 [10:23<00:00,  6.23s/it]\n"
     ]
    },
    {
     "data": {
      "text/plain": [
       "<myfm.gibbs.MyFMGibbsRegressor at 0x7f6e48698dd0>"
      ]
     },
     "execution_count": 82,
     "metadata": {},
     "output_type": "execute_result"
    }
   ],
   "source": [
    "# %pip install myfm\n",
    "import myfm\n",
    "\n",
    "fm = myfm.MyFMRegressor(rank=10)\n",
    "fm.fit(X,y,group_shapes=[6,4,2])"
   ]
  },
  {
   "cell_type": "code",
   "execution_count": 4,
   "metadata": {},
   "outputs": [
    {
     "ename": "NameError",
     "evalue": "name 'fm' is not defined",
     "output_type": "error",
     "traceback": [
      "\u001b[0;31m---------------------------------------------------------------------------\u001b[0m",
      "\u001b[0;31mNameError\u001b[0m                                 Traceback (most recent call last)",
      "\u001b[0;32m/tmp/ipykernel_60571/763258062.py\u001b[0m in \u001b[0;36m<module>\u001b[0;34m\u001b[0m\n\u001b[0;32m----> 1\u001b[0;31m \u001b[0mfm\u001b[0m\u001b[0;34m\u001b[0m\u001b[0;34m\u001b[0m\u001b[0m\n\u001b[0m",
      "\u001b[0;31mNameError\u001b[0m: name 'fm' is not defined"
     ]
    }
   ],
   "source": []
  },
  {
   "cell_type": "code",
   "execution_count": 16,
   "metadata": {},
   "outputs": [
    {
     "name": "stderr",
     "output_type": "stream",
     "text": [
      "100%|███████████████████████████████████████████████████████████████████████████████████████████████████████████████████████████████████████████████████████████████████████████████████████| 100/100 [00:00<00:00, 731.22it/s]\n"
     ]
    }
   ],
   "source": [
    "X_goal3 = np.zeros((100*625,12))\n",
    "goal = goal2boxarr[3]\n",
    "for stateidx in tqdm(range(100)):\n",
    "    state = idx2state(stateidx)\n",
    "    for actionidx in range(625):\n",
    "        action = action2boxarr[actionidx]\n",
    "        X_goal3[stateidx*625 + actionidx] = np.concatenate((state, action, goal))\n",
    "        \n"
   ]
  },
  {
   "cell_type": "code",
   "execution_count": 48,
   "metadata": {},
   "outputs": [],
   "source": [
    "def state2idx(state):\n",
    "    s = 0\n",
    "    for i in range(6):\n",
    "        s += (state[i]+1)*9/2*(10**i)\n",
    "    return int(np.round(s))"
   ]
  },
  {
   "cell_type": "code",
   "execution_count": 56,
   "metadata": {},
   "outputs": [
    {
     "data": {
      "text/plain": [
       "8"
      ]
     },
     "execution_count": 56,
     "metadata": {},
     "output_type": "execute_result"
    }
   ],
   "source": [
    "state2idx([0.7777,\n",
    " -1,-1,-1,-1,-1])"
   ]
  },
  {
   "cell_type": "code",
   "execution_count": 103,
   "metadata": {},
   "outputs": [],
   "source": [
    "step = 2/9\n",
    "intervals = [-1 + step*i for i in range(10)]\n",
    "goal = goal2boxarr[3]\n",
    "def bestaction(state):\n",
    "    X_goal3333 = np.zeros((625,12))\n",
    "    for i in range(6):\n",
    "        index = int(np.round((state[i] +1) / step))\n",
    "        state[i] = np.clip(-1 + step*index, -1,1)\n",
    "    stateidx = state2idx(state)\n",
    "    for actionidx in range(625):\n",
    "        action = action2boxarr[actionidx]\n",
    "        X_goal3333[actionidx] = np.concatenate((state,action,goal))\n",
    "    Qs = fm.predict(X_goal3333)\n",
    "    bestactionnn = np.argmax(Qs)\n",
    "    return bestactionnn"
   ]
  },
  {
   "cell_type": "code",
   "execution_count": 92,
   "metadata": {
    "scrolled": true
   },
   "outputs": [
    {
     "name": "stdout",
     "output_type": "stream",
     "text": [
      "600\n",
      "620\n",
      "4\n",
      "4\n",
      "4\n",
      "4\n",
      "620\n",
      "620\n",
      "620\n",
      "620\n",
      "600\n",
      "4\n",
      "4\n",
      "4\n",
      "620\n",
      "24\n",
      "600\n",
      "24\n",
      "4\n",
      "24\n",
      "4\n",
      "600\n",
      "24\n",
      "4\n",
      "620\n",
      "620\n",
      "4\n",
      "4\n",
      "620\n",
      "4\n",
      "620\n",
      "620\n",
      "4\n",
      "4\n",
      "4\n",
      "24\n",
      "620\n",
      "620\n",
      "600\n",
      "620\n",
      "4\n",
      "24\n",
      "620\n",
      "4\n",
      "24\n",
      "24\n",
      "4\n",
      "620\n",
      "620\n",
      "4\n",
      "4\n",
      "620\n",
      "4\n",
      "620\n",
      "620\n",
      "4\n",
      "4\n",
      "24\n",
      "4\n",
      "4\n",
      "620\n",
      "24\n",
      "620\n",
      "4\n",
      "4\n",
      "4\n",
      "4\n",
      "600\n",
      "600\n",
      "620\n",
      "600\n",
      "24\n",
      "24\n",
      "4\n",
      "620\n",
      "24\n",
      "4\n",
      "24\n",
      "620\n",
      "24\n",
      "24\n",
      "4\n",
      "24\n",
      "620\n",
      "620\n",
      "4\n",
      "4\n",
      "4\n",
      "600\n",
      "4\n",
      "4\n",
      "620\n",
      "620\n",
      "600\n",
      "4\n",
      "4\n",
      "620\n",
      "4\n",
      "4\n",
      "4\n"
     ]
    }
   ],
   "source": [
    "import random\n",
    "for s in range(100):\n",
    "    i = random.randint(0,1000000)\n",
    "    print(bestaction(idx2state(i)))"
   ]
  },
  {
   "cell_type": "code",
   "execution_count": 17,
   "metadata": {},
   "outputs": [],
   "source": [
    "y_goal3 = fm.predict(X_goal3)"
   ]
  },
  {
   "cell_type": "code",
   "execution_count": 19,
   "metadata": {},
   "outputs": [
    {
     "data": {
      "text/plain": [
       "62500"
      ]
     },
     "execution_count": 19,
     "metadata": {},
     "output_type": "execute_result"
    }
   ],
   "source": [
    "len(y_goal3)"
   ]
  },
  {
   "cell_type": "code",
   "execution_count": 120,
   "metadata": {},
   "outputs": [],
   "source": [
    "def evaluate_policy(env, turns = 3,state_dim=None):\n",
    "    scores = 0\n",
    "    positive_eps = 0\n",
    "    for j in range(turns):\n",
    "        env.set_task(mt1.train_tasks[j+1])\n",
    "        s, done, ep_r, steps = env.reset(), False, 0, 0\n",
    "        s = s[:state_dim]\n",
    "        for i in range(150):\n",
    "            # Take deterministic actions at test time\n",
    "            a = action2box(bestaction(s))\n",
    "#             a = env.action_space.sample()\n",
    "            s_prime, r, done, info = env.step(a)\n",
    "            s_prime = s_prime[:state_dim]\n",
    "            ep_r += r\n",
    "            steps += 1\n",
    "            s = s_prime\n",
    "#             print(r)\n",
    "        scores += ep_r\n",
    "        print(ep_r)\n",
    "        if ep_r > 0:\n",
    "            positive_eps += 1\n",
    "    return scores/turns, positive_eps"
   ]
  },
  {
   "cell_type": "code",
   "execution_count": 121,
   "metadata": {},
   "outputs": [
    {
     "name": "stdout",
     "output_type": "stream",
     "text": [
      "-86.57635420552101\n",
      "-85.78947059502578\n",
      "-87.7948504854141\n",
      "-87.07344669973742\n",
      "-87.228162268395\n",
      "-87.01291098158117\n",
      "-85.6010619429071\n",
      "-87.0487496126518\n",
      "-84.16555952039907\n",
      "-89.3089934147323\n",
      "-89.1736273250817\n",
      "-83.63304845357278\n"
     ]
    },
    {
     "ename": "KeyboardInterrupt",
     "evalue": "",
     "output_type": "error",
     "traceback": [
      "\u001b[0;31m---------------------------------------------------------------------------\u001b[0m",
      "\u001b[0;31mKeyboardInterrupt\u001b[0m                         Traceback (most recent call last)",
      "\u001b[0;32m/tmp/ipykernel_60571/4005734679.py\u001b[0m in \u001b[0;36m<module>\u001b[0;34m\u001b[0m\n\u001b[1;32m     10\u001b[0m \u001b[0maction_dim\u001b[0m \u001b[0;34m=\u001b[0m \u001b[0;36m625\u001b[0m\u001b[0;34m\u001b[0m\u001b[0;34m\u001b[0m\u001b[0m\n\u001b[1;32m     11\u001b[0m \u001b[0mmax_e_steps\u001b[0m \u001b[0;34m=\u001b[0m \u001b[0;36m150\u001b[0m\u001b[0;34m\u001b[0m\u001b[0;34m\u001b[0m\u001b[0m\n\u001b[0;32m---> 12\u001b[0;31m \u001b[0mprint\u001b[0m\u001b[0;34m(\u001b[0m\u001b[0mevaluate_policy\u001b[0m\u001b[0;34m(\u001b[0m\u001b[0meval_env\u001b[0m\u001b[0;34m,\u001b[0m \u001b[0mturns\u001b[0m\u001b[0;34m=\u001b[0m\u001b[0;36m49\u001b[0m\u001b[0;34m,\u001b[0m \u001b[0mstate_dim\u001b[0m\u001b[0;34m=\u001b[0m\u001b[0;36m6\u001b[0m\u001b[0;34m)\u001b[0m\u001b[0;34m)\u001b[0m\u001b[0;34m\u001b[0m\u001b[0;34m\u001b[0m\u001b[0m\n\u001b[0m",
      "\u001b[0;32m/tmp/ipykernel_60571/1866589567.py\u001b[0m in \u001b[0;36mevaluate_policy\u001b[0;34m(env, turns, state_dim)\u001b[0m\n\u001b[1;32m      8\u001b[0m         \u001b[0;32mfor\u001b[0m \u001b[0mi\u001b[0m \u001b[0;32min\u001b[0m \u001b[0mrange\u001b[0m\u001b[0;34m(\u001b[0m\u001b[0;36m150\u001b[0m\u001b[0;34m)\u001b[0m\u001b[0;34m:\u001b[0m\u001b[0;34m\u001b[0m\u001b[0;34m\u001b[0m\u001b[0m\n\u001b[1;32m      9\u001b[0m             \u001b[0;31m# Take deterministic actions at test time\u001b[0m\u001b[0;34m\u001b[0m\u001b[0;34m\u001b[0m\u001b[0;34m\u001b[0m\u001b[0m\n\u001b[0;32m---> 10\u001b[0;31m             \u001b[0ma\u001b[0m \u001b[0;34m=\u001b[0m \u001b[0maction2box\u001b[0m\u001b[0;34m(\u001b[0m\u001b[0mbestaction\u001b[0m\u001b[0;34m(\u001b[0m\u001b[0ms\u001b[0m\u001b[0;34m)\u001b[0m\u001b[0;34m)\u001b[0m\u001b[0;34m\u001b[0m\u001b[0;34m\u001b[0m\u001b[0m\n\u001b[0m\u001b[1;32m     11\u001b[0m \u001b[0;31m#             a = env.action_space.sample()\u001b[0m\u001b[0;34m\u001b[0m\u001b[0;34m\u001b[0m\u001b[0;34m\u001b[0m\u001b[0m\n\u001b[1;32m     12\u001b[0m             \u001b[0ms_prime\u001b[0m\u001b[0;34m,\u001b[0m \u001b[0mr\u001b[0m\u001b[0;34m,\u001b[0m \u001b[0mdone\u001b[0m\u001b[0;34m,\u001b[0m \u001b[0minfo\u001b[0m \u001b[0;34m=\u001b[0m \u001b[0menv\u001b[0m\u001b[0;34m.\u001b[0m\u001b[0mstep\u001b[0m\u001b[0;34m(\u001b[0m\u001b[0ma\u001b[0m\u001b[0;34m)\u001b[0m\u001b[0;34m\u001b[0m\u001b[0;34m\u001b[0m\u001b[0m\n",
      "\u001b[0;32m/tmp/ipykernel_60571/2679388797.py\u001b[0m in \u001b[0;36mbestaction\u001b[0;34m(state)\u001b[0m\n\u001b[1;32m     11\u001b[0m         \u001b[0maction\u001b[0m \u001b[0;34m=\u001b[0m \u001b[0maction2boxarr\u001b[0m\u001b[0;34m[\u001b[0m\u001b[0mactionidx\u001b[0m\u001b[0;34m]\u001b[0m\u001b[0;34m\u001b[0m\u001b[0;34m\u001b[0m\u001b[0m\n\u001b[1;32m     12\u001b[0m         \u001b[0mX_goal3333\u001b[0m\u001b[0;34m[\u001b[0m\u001b[0mactionidx\u001b[0m\u001b[0;34m]\u001b[0m \u001b[0;34m=\u001b[0m \u001b[0mnp\u001b[0m\u001b[0;34m.\u001b[0m\u001b[0mconcatenate\u001b[0m\u001b[0;34m(\u001b[0m\u001b[0;34m(\u001b[0m\u001b[0mstate\u001b[0m\u001b[0;34m,\u001b[0m\u001b[0maction\u001b[0m\u001b[0;34m,\u001b[0m\u001b[0mgoal\u001b[0m\u001b[0;34m)\u001b[0m\u001b[0;34m)\u001b[0m\u001b[0;34m\u001b[0m\u001b[0;34m\u001b[0m\u001b[0m\n\u001b[0;32m---> 13\u001b[0;31m     \u001b[0mQs\u001b[0m \u001b[0;34m=\u001b[0m \u001b[0mfm\u001b[0m\u001b[0;34m.\u001b[0m\u001b[0mpredict\u001b[0m\u001b[0;34m(\u001b[0m\u001b[0mX_goal3333\u001b[0m\u001b[0;34m)\u001b[0m\u001b[0;34m\u001b[0m\u001b[0;34m\u001b[0m\u001b[0m\n\u001b[0m\u001b[1;32m     14\u001b[0m     \u001b[0mbestactionnn\u001b[0m \u001b[0;34m=\u001b[0m \u001b[0mnp\u001b[0m\u001b[0;34m.\u001b[0m\u001b[0margmax\u001b[0m\u001b[0;34m(\u001b[0m\u001b[0mQs\u001b[0m\u001b[0;34m)\u001b[0m\u001b[0;34m\u001b[0m\u001b[0;34m\u001b[0m\u001b[0m\n\u001b[1;32m     15\u001b[0m     \u001b[0;32mreturn\u001b[0m \u001b[0mbestactionnn\u001b[0m\u001b[0;34m\u001b[0m\u001b[0;34m\u001b[0m\u001b[0m\n",
      "\u001b[0;32m~/Desktop/RL/RLenv/lib/python3.7/site-packages/myfm/gibbs.py\u001b[0m in \u001b[0;36mpredict\u001b[0;34m(self, X, X_rel, n_workers)\u001b[0m\n\u001b[1;32m    213\u001b[0m             \u001b[0mOne\u001b[0m\u001b[0;34m-\u001b[0m\u001b[0mdimensional\u001b[0m \u001b[0marray\u001b[0m \u001b[0mof\u001b[0m \u001b[0mpredictions\u001b[0m\u001b[0;34m.\u001b[0m\u001b[0;34m\u001b[0m\u001b[0;34m\u001b[0m\u001b[0m\n\u001b[1;32m    214\u001b[0m         \"\"\"\n\u001b[0;32m--> 215\u001b[0;31m         \u001b[0;32mreturn\u001b[0m \u001b[0mself\u001b[0m\u001b[0;34m.\u001b[0m\u001b[0m_predict\u001b[0m\u001b[0;34m(\u001b[0m\u001b[0mX\u001b[0m\u001b[0;34m,\u001b[0m \u001b[0mX_rel\u001b[0m\u001b[0;34m,\u001b[0m \u001b[0mn_workers\u001b[0m\u001b[0;34m=\u001b[0m\u001b[0mn_workers\u001b[0m\u001b[0;34m)\u001b[0m\u001b[0;34m\u001b[0m\u001b[0;34m\u001b[0m\u001b[0m\n\u001b[0m\u001b[1;32m    216\u001b[0m \u001b[0;34m\u001b[0m\u001b[0m\n\u001b[1;32m    217\u001b[0m \u001b[0;34m\u001b[0m\u001b[0m\n",
      "\u001b[0;32m~/Desktop/RL/RLenv/lib/python3.7/site-packages/myfm/base.py\u001b[0m in \u001b[0;36m_predict\u001b[0;34m(self, X, X_rel, n_workers)\u001b[0m\n\u001b[1;32m    361\u001b[0m         \u001b[0mn_workers\u001b[0m\u001b[0;34m:\u001b[0m \u001b[0mOptional\u001b[0m\u001b[0;34m[\u001b[0m\u001b[0mint\u001b[0m\u001b[0;34m]\u001b[0m \u001b[0;34m=\u001b[0m \u001b[0;32mNone\u001b[0m\u001b[0;34m,\u001b[0m\u001b[0;34m\u001b[0m\u001b[0;34m\u001b[0m\u001b[0m\n\u001b[1;32m    362\u001b[0m     ) -> np.ndarray:\n\u001b[0;32m--> 363\u001b[0;31m         \u001b[0;32mreturn\u001b[0m \u001b[0mself\u001b[0m\u001b[0;34m.\u001b[0m\u001b[0m_predict_core\u001b[0m\u001b[0;34m(\u001b[0m\u001b[0mX\u001b[0m\u001b[0;34m,\u001b[0m \u001b[0mX_rel\u001b[0m\u001b[0;34m,\u001b[0m \u001b[0mn_workers\u001b[0m\u001b[0;34m=\u001b[0m\u001b[0mn_workers\u001b[0m\u001b[0;34m)\u001b[0m\u001b[0;34m\u001b[0m\u001b[0;34m\u001b[0m\u001b[0m\n\u001b[0m\u001b[1;32m    364\u001b[0m \u001b[0;34m\u001b[0m\u001b[0m\n\u001b[1;32m    365\u001b[0m \u001b[0;34m\u001b[0m\u001b[0m\n",
      "\u001b[0;32m~/Desktop/RL/RLenv/lib/python3.7/site-packages/myfm/gibbs.py\u001b[0m in \u001b[0;36m_predict_core\u001b[0;34m(self, X, X_rel, n_workers)\u001b[0m\n\u001b[1;32m     54\u001b[0m             \u001b[0mX\u001b[0m \u001b[0;34m=\u001b[0m \u001b[0msps\u001b[0m\u001b[0;34m.\u001b[0m\u001b[0mcsr_matrix\u001b[0m\u001b[0;34m(\u001b[0m\u001b[0mX\u001b[0m\u001b[0;34m)\u001b[0m\u001b[0;34m\u001b[0m\u001b[0;34m\u001b[0m\u001b[0m\n\u001b[1;32m     55\u001b[0m         \u001b[0;32mif\u001b[0m \u001b[0mn_workers\u001b[0m \u001b[0;32mis\u001b[0m \u001b[0;32mNone\u001b[0m\u001b[0;34m:\u001b[0m\u001b[0;34m\u001b[0m\u001b[0;34m\u001b[0m\u001b[0m\n\u001b[0;32m---> 56\u001b[0;31m             \u001b[0;32mreturn\u001b[0m \u001b[0mpredictor\u001b[0m\u001b[0;34m.\u001b[0m\u001b[0mpredict\u001b[0m\u001b[0;34m(\u001b[0m\u001b[0mX\u001b[0m\u001b[0;34m,\u001b[0m \u001b[0mX_rel\u001b[0m\u001b[0;34m)\u001b[0m\u001b[0;34m\u001b[0m\u001b[0;34m\u001b[0m\u001b[0m\n\u001b[0m\u001b[1;32m     57\u001b[0m         \u001b[0;32melse\u001b[0m\u001b[0;34m:\u001b[0m\u001b[0;34m\u001b[0m\u001b[0;34m\u001b[0m\u001b[0m\n\u001b[1;32m     58\u001b[0m             \u001b[0;32mreturn\u001b[0m \u001b[0mpredictor\u001b[0m\u001b[0;34m.\u001b[0m\u001b[0mpredict_parallel\u001b[0m\u001b[0;34m(\u001b[0m\u001b[0mX\u001b[0m\u001b[0;34m,\u001b[0m \u001b[0mX_rel\u001b[0m\u001b[0;34m,\u001b[0m \u001b[0mn_workers\u001b[0m\u001b[0;34m)\u001b[0m\u001b[0;34m\u001b[0m\u001b[0;34m\u001b[0m\u001b[0m\n",
      "\u001b[0;31mKeyboardInterrupt\u001b[0m: "
     ]
    }
   ],
   "source": [
    "mt1 = metaworld.MT1('push-v1')  # Construct the benchmark, sampling tasks\n",
    "env = mt1.train_classes['push-v1']()  # Create an environment with task `pick_place`\n",
    "task = mt1.train_tasks[1]\n",
    "env.set_task(task)  # Set task\n",
    "env._last_rand_vec[3] = 0.09   #-0.09 or 0.09\n",
    "env._last_rand_vec[4] = 0.89    #0.81 or 0.89\n",
    "# eval_env = gym.make(EnvName[EnvIdex])\n",
    "eval_env = env\n",
    "state_dim = 6\n",
    "action_dim = 625\n",
    "max_e_steps = 150\n",
    "print(evaluate_policy(eval_env, turns=49, state_dim=6))"
   ]
  }
 ],
 "metadata": {
  "colab": {
   "collapsed_sections": [],
   "name": "Untitled2.ipynb",
   "provenance": []
  },
  "kernelspec": {
   "display_name": "RLenv",
   "language": "python",
   "name": "rlenv"
  },
  "language_info": {
   "codemirror_mode": {
    "name": "ipython",
    "version": 3
   },
   "file_extension": ".py",
   "mimetype": "text/x-python",
   "name": "python",
   "nbconvert_exporter": "python",
   "pygments_lexer": "ipython3",
   "version": "3.7.12"
  }
 },
 "nbformat": 4,
 "nbformat_minor": 1
}
