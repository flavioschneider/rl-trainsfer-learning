{
 "cells": [
  {
   "cell_type": "code",
   "execution_count": 1,
   "metadata": {},
   "outputs": [
    {
     "name": "stderr",
     "output_type": "stream",
     "text": [
      "/home/ico/Desktop/RL/RLenv/lib/python3.7/site-packages/gym/logger.py:30: UserWarning: \u001B[33mWARN: Box bound precision lowered by casting to float32\u001B[0m\n",
      "  warnings.warn(colorize('%s: %s'%('WARN', msg % args), 'yellow'))\n"
     ]
    }
   ],
   "source": [
    "import metaworld\n"
   ]
  },
  {
   "cell_type": "code",
   "execution_count": 83,
   "metadata": {},
   "outputs": [],
   "source": [
    "import numpy as np"
   ]
  },
  {
   "cell_type": "code",
   "execution_count": 93,
   "metadata": {},
   "outputs": [],
   "source": [
    "import pickle"
   ]
  },
  {
   "cell_type": "code",
   "execution_count": 4,
   "metadata": {},
   "outputs": [
    {
     "name": "stdout",
     "output_type": "stream",
     "text": [
      "['bin-picking-v1', 'box-close-v1', 'hand-insert-v1', 'door-lock-v1', 'door-unlock-v1', 'reach-v1', 'push-v1', 'pick-place-v1', 'door-open-v1', 'drawer-open-v1', 'drawer-close-v1', 'button-press-topdown-v1', 'peg-insert-side-v1', 'window-open-v1', 'window-close-v1', 'door-close-v1', 'reach-wall-v1', 'pick-place-wall-v1', 'push-wall-v1', 'button-press-v1', 'button-press-topdown-wall-v1', 'button-press-wall-v1', 'peg-unplug-side-v1', 'disassemble-v1', 'hammer-v1', 'plate-slide-v1', 'plate-slide-side-v1', 'plate-slide-back-v1', 'plate-slide-back-side-v1', 'handle-press-v1', 'handle-pull-v1', 'handle-press-side-v1', 'handle-pull-side-v1', 'stick-push-v1', 'stick-pull-v1', 'basketball-v1', 'soccer-v1', 'faucet-open-v1', 'faucet-close-v1', 'coffee-push-v1', 'coffee-pull-v1', 'coffee-button-v1', 'sweep-v1', 'sweep-into-v1', 'pick-out-of-hole-v1', 'assembly-v1', 'shelf-place-v1', 'push-back-v1', 'lever-pull-v1', 'dial-turn-v1']\n"
     ]
    }
   ],
   "source": [
    "print(metaworld.ML1.ENV_NAMES)"
   ]
  },
  {
   "cell_type": "code",
   "execution_count": 5,
   "metadata": {},
   "outputs": [
    {
     "name": "stderr",
     "output_type": "stream",
     "text": [
      "/home/ico/Desktop/RL/RLenv/lib/python3.7/site-packages/gym/logger.py:30: UserWarning: \u001B[33mWARN: Box bound precision lowered by casting to float32\u001B[0m\n",
      "  warnings.warn(colorize('%s: %s'%('WARN', msg % args), 'yellow'))\n"
     ]
    }
   ],
   "source": [
    "ml1 = metaworld.ML1('push-v1')"
   ]
  },
  {
   "cell_type": "code",
   "execution_count": 15,
   "metadata": {},
   "outputs": [],
   "source": [
    "env = ml1.train_classes['push-v1']()"
   ]
  },
  {
   "cell_type": "code",
   "execution_count": 22,
   "metadata": {},
   "outputs": [],
   "source": [
    "task1 = ml1.train_tasks[1]\n",
    "task2 = ml1.train_tasks[2]"
   ]
  },
  {
   "cell_type": "code",
   "execution_count": 95,
   "metadata": {},
   "outputs": [
    {
     "data": {
      "text/plain": [
       "{'task_type': 'push',\n",
       " 'rand_vec': array([-0.04376781,  0.66652628,  0.02      ,  0.05942779,  0.86330589,\n",
       "         0.1582635 ]),\n",
       " 'env_cls': metaworld.envs.mujoco.sawyer_xyz.v1.sawyer_reach_push_pick_place.SawyerReachPushPickPlaceEnv,\n",
       " 'partially_observable': True}"
      ]
     },
     "execution_count": 95,
     "metadata": {},
     "output_type": "execute_result"
    }
   ],
   "source": [
    "data = pickle.loads(task1.data)\n",
    "data"
   ]
  },
  {
   "cell_type": "code",
   "execution_count": 146,
   "metadata": {},
   "outputs": [
    {
     "name": "stdout",
     "output_type": "stream",
     "text": [
      "-0.015265584202766844 0.8713672823212308\n"
     ]
    },
    {
     "data": {
      "text/plain": [
       "array([-0.09      ,  0.81      ,  0.01492813])"
      ]
     },
     "execution_count": 146,
     "metadata": {},
     "output_type": "execute_result"
    }
   ],
   "source": [
    "env.set_task(ml1.train_tasks[2])\n",
    "print(env._last_rand_vec[3],env._last_rand_vec[4])\n",
    "env._last_rand_vec[3] = -0.09\n",
    "env._last_rand_vec[4] = 0.81\n",
    "env._last_rand_vec\n",
    "env.reset()\n",
    "env._target_pos"
   ]
  },
  {
   "cell_type": "code",
   "execution_count": 144,
   "metadata": {},
   "outputs": [
    {
     "name": "stdout",
     "output_type": "stream",
     "text": [
      "-0.09894372559443404 0.0994469622157286 0.8034257886926747 0.8968488343014187\n"
     ]
    }
   ],
   "source": [
    "min3 = min4 = 10\n",
    "max3 = max4 = -10\n",
    "\n",
    "for i in range(50):\n",
    "    env.set_task(ml1.train_tasks[i])\n",
    "    min3 = min(min3, env._last_rand_vec[3])\n",
    "    max3 = max(max3, env._last_rand_vec[3])\n",
    "    min4 = min(min4, env._last_rand_vec[4])\n",
    "    max4 = max(max4, env._last_rand_vec[4])\n",
    "\n",
    "# for i in range(50):\n",
    "#     env.set_task(mt1.train_tasks[i])\n",
    "#     min3 = min(min3, env._last_rand_vec[0])\n",
    "#     max3 = max(max3, env._last_rand_vec[0])\n",
    "#     min4 = min(min4, env._last_rand_vec[1])\n",
    "#     max4 = max(max4, env._last_rand_vec[1])\n",
    "    \n",
    "print(min3,max3,min4,max4)\n",
    "    "
   ]
  }
 ],
 "metadata": {
  "kernelspec": {
   "display_name": "RLenv",
   "language": "python",
   "name": "rlenv"
  },
  "language_info": {
   "codemirror_mode": {
    "name": "ipython",
    "version": 3
   },
   "file_extension": ".py",
   "mimetype": "text/x-python",
   "name": "python",
   "nbconvert_exporter": "python",
   "pygments_lexer": "ipython3",
   "version": "3.7.12"
  }
 },
 "nbformat": 4,
 "nbformat_minor": 1
}